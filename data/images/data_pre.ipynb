{
 "cells": [
  {
   "cell_type": "code",
   "execution_count": 40,
   "id": "addressed-initial",
   "metadata": {},
   "outputs": [
    {
     "ename": "SyntaxError",
     "evalue": "unmatched ')' (<ipython-input-40-5cf1ba7e2242>, line 14)",
     "output_type": "error",
     "traceback": [
      "\u001b[1;36m  File \u001b[1;32m\"<ipython-input-40-5cf1ba7e2242>\"\u001b[1;36m, line \u001b[1;32m14\u001b[0m\n\u001b[1;33m    cv2.imwrite(save_path + \"fake_%s_%s_%s_%05d.jpg\"), img)\u001b[0m\n\u001b[1;37m                                                          ^\u001b[0m\n\u001b[1;31mSyntaxError\u001b[0m\u001b[1;31m:\u001b[0m unmatched ')'\n"
     ]
    }
   ],
   "source": [
    "import os\n",
    "import pandas as pd\n",
    "import numpy as np\n",
    "import glob\n",
    "from PIL import Image\n",
    "import cv2\n",
    "\n",
    "# 경로 지정 (폴더 위치에 따라 수정이 필요함 *현재는 바탕화면 기준)\n",
    "train_list = glob.glob('3D_Dataset/210F/210F_1/PLA+/Bullet/HQ/*')\n",
    "save_path = \"./train/\"\n",
    "\n",
    "for i in train_list:\n",
    "    img = cv2.imread(i)\n",
    "    cv2.imwrite(save_path + \"fake_%s_%s_%s_%05d.jpg\"), img)"
   ]
  },
  {
   "cell_type": "code",
   "execution_count": 49,
   "id": "surrounded-bruce",
   "metadata": {},
   "outputs": [],
   "source": [
    "import cv2\n",
    "save_path = \"./train/\"\n",
    "img = Image.open(train_list[2])\n",
    "img.save('./train/a.jpg')\n",
    "#img.save(save_path + \"test.jpg\", img)"
   ]
  },
  {
   "cell_type": "code",
   "execution_count": 52,
   "id": "regional-green",
   "metadata": {},
   "outputs": [
    {
     "name": "stdout",
     "output_type": "stream",
     "text": [
      "./3D_Dataset/210F\n",
      "./3D_Dataset/320C\n",
      "./3D_Dataset/Finder\n",
      "./3D_Dataset/Method_X\n",
      "./3D_Dataset/Replicator\n"
     ]
    }
   ],
   "source": [
    "import os\n",
    "def mmc_data(root_dir, prefix):\n",
    "    file = os.listdir(root_dir)\n",
    "    for i in file:\n",
    "        path = os.path.join(root_dir, i)\n",
    "        print(prefix + path)\n",
    "        \n",
    "root_dir = \"./3D_Dataset/\"\n",
    "mmc_data(root_dir, \"\")"
   ]
  },
  {
   "cell_type": "code",
   "execution_count": null,
   "id": "dried-integral",
   "metadata": {},
   "outputs": [],
   "source": []
  }
 ],
 "metadata": {
  "kernelspec": {
   "display_name": "Python 3",
   "language": "python",
   "name": "python3"
  },
  "language_info": {
   "codemirror_mode": {
    "name": "ipython",
    "version": 3
   },
   "file_extension": ".py",
   "mimetype": "text/x-python",
   "name": "python",
   "nbconvert_exporter": "python",
   "pygments_lexer": "ipython3",
   "version": "3.8.3"
  }
 },
 "nbformat": 4,
 "nbformat_minor": 5
}
